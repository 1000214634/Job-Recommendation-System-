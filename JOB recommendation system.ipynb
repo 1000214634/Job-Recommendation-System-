{
 "cells": [
  {
   "cell_type": "code",
   "execution_count": null,
   "id": "4364c776",
   "metadata": {},
   "outputs": [],
   "source": [
    "pip install -U scikit-learn scipy matplotlib"
   ]
  },
  {
   "cell_type": "code",
   "execution_count": 1,
   "id": "7ecb96b3",
   "metadata": {},
   "outputs": [
    {
     "ename": "ModuleNotFoundError",
     "evalue": "No module named 'sklearn'",
     "output_type": "error",
     "traceback": [
      "\u001b[1;31m---------------------------------------------------------------------------\u001b[0m",
      "\u001b[1;31mModuleNotFoundError\u001b[0m                       Traceback (most recent call last)",
      "\u001b[1;32mC:\\Users\\MASTER~1\\AppData\\Local\\Temp/ipykernel_20660/574126518.py\u001b[0m in \u001b[0;36m<module>\u001b[1;34m\u001b[0m\n\u001b[0;32m      2\u001b[0m \u001b[1;32mimport\u001b[0m \u001b[0mpandas\u001b[0m \u001b[1;32mas\u001b[0m \u001b[0mpd\u001b[0m\u001b[1;33m\u001b[0m\u001b[1;33m\u001b[0m\u001b[0m\n\u001b[0;32m      3\u001b[0m \u001b[1;32mimport\u001b[0m \u001b[0mnumpy\u001b[0m \u001b[1;32mas\u001b[0m \u001b[0mnp\u001b[0m\u001b[1;33m\u001b[0m\u001b[1;33m\u001b[0m\u001b[0m\n\u001b[1;32m----> 4\u001b[1;33m \u001b[1;32mfrom\u001b[0m \u001b[0msklearn\u001b[0m\u001b[1;33m.\u001b[0m\u001b[0mfeature_extraction\u001b[0m\u001b[1;33m.\u001b[0m\u001b[0mtext\u001b[0m \u001b[1;32mimport\u001b[0m \u001b[0mTfidfVectorizer\u001b[0m\u001b[1;33m\u001b[0m\u001b[1;33m\u001b[0m\u001b[0m\n\u001b[0m\u001b[0;32m      5\u001b[0m \u001b[1;32mfrom\u001b[0m \u001b[0msklearn\u001b[0m\u001b[1;33m.\u001b[0m\u001b[0mmetrics\u001b[0m\u001b[1;33m.\u001b[0m\u001b[0mpairwise\u001b[0m \u001b[1;32mimport\u001b[0m \u001b[0mcosine_similarity\u001b[0m\u001b[1;33m\u001b[0m\u001b[1;33m\u001b[0m\u001b[0m\n\u001b[0;32m      6\u001b[0m \u001b[1;33m\u001b[0m\u001b[0m\n",
      "\u001b[1;31mModuleNotFoundError\u001b[0m: No module named 'sklearn'"
     ]
    }
   ],
   "source": [
    "#import streamlit as st\n",
    "import pandas as pd\n",
    "import numpy as np\n",
    "from sklearn.feature_extraction.text import TfidfVectorizer\n",
    "from sklearn.metrics.pairwise import cosine_similarity\n",
    "\n",
    "df = pd.read_csv(\"dataset.csv\")\n",
    "df = df[:31]\n",
    "\n",
    "print(df['Job_Description'])\n",
    "\n",
    "\n",
    "def f(user_input,location_input):\n",
    "    # Sample user profile and job descriptions\n",
    "    # user_profile = \"Data scientist with expertise in machine learning\"\n",
    "    user_profile = user_input\n",
    "    job_descriptions = np.array(df['Job_Description'])\n",
    "    print(job_descriptions)\n",
    "\n",
    "    # Combine user profile and job descriptions for vectorization\n",
    "\n",
    "    all_text = [user_profile] + job_descriptions\n",
    "\n",
    "    # Create TF-IDF vectorizer and fit on combined text data\n",
    "    vectorizer = TfidfVectorizer()\n",
    "    text_vectors = vectorizer.fit_transform(all_text)\n",
    "\n",
    "    # Calculate cosine similarity between user profile vector and job description vectors\n",
    "    user_vector = text_vectors[0]  # User profile vector\n",
    "    job_vectors = text_vectors[1:]  # Job description vectors\n",
    "\n",
    "    cosine_similarities = cosine_similarity(user_vector, job_vectors)[0]\n",
    "\n",
    "    # Rank job descriptions based on cosine similarities\n",
    "    sorted_indices = np.argsort(cosine_similarities)[::-1]  # Sort in descending order\n",
    "\n",
    "    # Recommend top N jobs\n",
    "    num_recommendations = 3\n",
    "    recommended_jobs = [job_descriptions[idx] for idx in sorted_indices[:num_recommendations]]\n",
    "\n",
    "    print(\"Recommended Jobs:\")\n",
    "    output = \"\\n\"\n",
    "    output2 = '\\n'\n",
    "    index = []\n",
    "    for i, job in enumerate(recommended_jobs, 1):\n",
    "        output += str(i)+\". \" +job+\"\\n\"\n",
    "        index.append(int(np.where(job_descriptions == job)[0][0]))\n",
    "    j = 1\n",
    "    print(index)\n",
    "    location = np.array(df['Location'])\n",
    "    print(location[0])\n",
    "    print(df['Location'].iloc[[0]])\n",
    "    for i in index:\n",
    "        print(str(location[i]) ,\"  &&&&  \" ,location_input)\n",
    "        if (str(location[i]) == location_input):\n",
    "            print(\"===============================================\")\n",
    "            output2 += str(j)+\". \" +job_descriptions[i]+\"\\n\"\n",
    "            j+=1\n",
    "    print(output2)\n",
    "\n",
    "    return output,output2\n",
    "\n",
    "# Title\n",
    "st.title(\"Job Recommondation System\")\n",
    "\n",
    "# Input\n",
    "user_input = st.text_input(\"Enter User Profile\", \"\")\n",
    "location_input = st.text_input(\"Enter Location\", \"\")\n",
    "# Button\n",
    "button_clicked = st.button(\"Submit\")\n",
    "\n",
    "# Output\n",
    "if button_clicked:\n",
    "    output,output2 = f(user_input,location_input)\n",
    "    st.write(\"Recommended jobs :\", output)\n",
    "    st.write(\"Jobs available based on location :\",output2)"
   ]
  },
  {
   "cell_type": "code",
   "execution_count": null,
   "id": "f66938af",
   "metadata": {},
   "outputs": [],
   "source": []
  }
 ],
 "metadata": {
  "kernelspec": {
   "display_name": "Python 3 (ipykernel)",
   "language": "python",
   "name": "python3"
  },
  "language_info": {
   "codemirror_mode": {
    "name": "ipython",
    "version": 3
   },
   "file_extension": ".py",
   "mimetype": "text/x-python",
   "name": "python",
   "nbconvert_exporter": "python",
   "pygments_lexer": "ipython3",
   "version": "3.10.0"
  }
 },
 "nbformat": 4,
 "nbformat_minor": 5
}
